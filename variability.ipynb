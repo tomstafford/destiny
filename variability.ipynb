{
 "cells": [
  {
   "cell_type": "markdown",
   "metadata": {},
   "source": [
    "# Exploration and Skill Acquisition in a Major Online Game\n",
    "\n",
    "* Tom Stafford; University of Sheffield, t.stafford@shef.ac.uk\n",
    "* Sam Devlin; Digital Creativity Labs, University of York\n",
    "* Anders Drachen; Digital Creativity Labs, University of York\n",
    "* Rafet Sifa; Fraunhofer IAIS, Germany"
   ]
  },
  {
   "cell_type": "markdown",
   "metadata": {},
   "source": [
    "### Tracking skill acquisition across 21,543 players of the first-person shooter game Destiny shows that variability in some – but not all – dimensions of practice enhances learning"
   ]
  },
  {
   "cell_type": "markdown",
   "metadata": {},
   "source": [
    "### CogSci17: 39th Annual Meeting of the Cognitive Science Society, London, UK,  July 26th – July 29th, 2017\n",
    "### Poster 140, Poster Session 1, Monarch Suite, Thursday, July 27, 1:20pm – 2:50pm\n",
    "\n",
    "Paper: https://mindmodeling.org/cogsci2017/papers/0615/index.html  \n",
    "Full scripts & sample data: https://osf.io/c59n9/  \n",
    "Poster: http://tomstafford.staff.shef.ac.uk/docs/CogSci17_TomStafford.jpg  \n",
    "This notebook: https://github.com/tomstafford/destiny/blob/master/variability.ipynb  "
   ]
  },
  {
   "cell_type": "markdown",
   "metadata": {},
   "source": [
    "## Initialise"
   ]
  },
  {
   "cell_type": "code",
   "execution_count": 40,
   "metadata": {},
   "outputs": [
    {
     "name": "stdout",
     "output_type": "stream",
     "text": [
      "Python version = 3.5.2 (default, Nov 17 2016, 17:05:23) \n",
      "[GCC 5.4.0 20160609]\n",
      "working directory = /home/tom/Dropbox/university/expts/destiny_public/destiny\n",
      "Machine = tom-xps\n"
     ]
    }
   ],
   "source": [
    "#libraries\n",
    "# - standard\n",
    "import os #directory and file functions\n",
    "import socket #machine id\n",
    "import pandas as pd #data munging \n",
    "import sys #for getting Python version\n",
    "#Using arrow instead of datetime because @treycausey told me to\n",
    "#http://crsmithdev.com/arrow/\n",
    "import arrow\n",
    "\n",
    "# - bespoke\n",
    "from destiny_funcs import maketime #\n",
    "\n",
    "\n",
    "import numpy as np #number functions\n",
    "import pylab as plt #graphing functions\n",
    "#from rpy2.robjects.packages import importr #obviously requires R to be installed\n",
    "#psychometric=importr('psychometric') #first run install.packages(\"psychometric\") in R\n",
    "\n",
    "print(\"Python version = \" + sys.version)\n",
    "print(\"working directory = \" + os.getcwd())\n",
    "print(\"Machine = \" + socket.gethostname())"
   ]
  },
  {
   "cell_type": "code",
   "execution_count": 41,
   "metadata": {},
   "outputs": [],
   "source": [
    "# Parameters\n",
    "logtransform = False\n",
    "\n",
    "#all graphs to have same x y range\n",
    "xmin=0.5 \n",
    "xmax=1.1\n",
    "\n",
    "cRmin=60;cRmax=130\n",
    "if logtransform:\n",
    "    cRmin=np.log(60);cRmax=np.log(130)\n",
    "\n",
    "perfvar='combatRating' #'killsDeathsRatio'\n",
    "if logtransform:\n",
    "    perfvar='Ln_combatRating' #'killsDeathsRatio'\n",
    "\n",
    "#display format for numbers\n",
    "#pd.set_option('display.float_format', lambda x: '%.3f' % x)\n"
   ]
  },
  {
   "cell_type": "markdown",
   "metadata": {},
   "source": [
    "## The Data"
   ]
  },
  {
   "cell_type": "code",
   "execution_count": 42,
   "metadata": {},
   "outputs": [],
   "source": [
    "#----------------- full data not publically available (sorry!), but we'll load summary data if we're not running locally\n",
    "\n",
    "local=True\n",
    "if local:\n",
    "    filepath='../../destiny/data/validation_dataset/' #location of full dataset on Tom's machine\n",
    "    dfilename='validation-dataset-rldat.csv' \n",
    "    gfilename='grimScore_validationPlayers.csv'\n",
    "    pfilename='validation-dataset-entropyAcrossEventTypesForFirst25Days.csv'\n",
    "\n",
    "df=pd.read_csv(filepath+dfilename) #main player data\n",
    "    \n",
    "gf=pd.read_csv(filepath+gfilename) #final grimoire score of each player\n",
    "gf.columns= ['userid','grimscore']\n",
    "\n",
    "pf=pd.read_csv(filepath+pfilename) #entropy across playmodes\n",
    "pf.columns= ['userid','eventEntropy25']"
   ]
  },
  {
   "cell_type": "code",
   "execution_count": 43,
   "metadata": {},
   "outputs": [
    {
     "data": {
      "text/html": [
       "<div>\n",
       "<table border=\"1\" class=\"dataframe\">\n",
       "  <thead>\n",
       "    <tr style=\"text-align: right;\">\n",
       "      <th></th>\n",
       "      <th>destinyMembershipId</th>\n",
       "      <th>date</th>\n",
       "      <th>PvPEventCount</th>\n",
       "      <th>totalDeathDistance</th>\n",
       "      <th>activitiesWon</th>\n",
       "      <th>totalKillDistance</th>\n",
       "      <th>deaths</th>\n",
       "      <th>averageLifespan</th>\n",
       "      <th>objectivesCompleted</th>\n",
       "      <th>averageKillDistance</th>\n",
       "      <th>...</th>\n",
       "      <th>assists</th>\n",
       "      <th>resurrectionsReceived</th>\n",
       "      <th>activitiesEntered</th>\n",
       "      <th>score</th>\n",
       "      <th>averageScorePerLife</th>\n",
       "      <th>maximumWeaponLevel</th>\n",
       "      <th>allParticipantsCount</th>\n",
       "      <th>maximumPowerLevel</th>\n",
       "      <th>highestCharacterLevel</th>\n",
       "      <th>winLossRatio</th>\n",
       "    </tr>\n",
       "  </thead>\n",
       "  <tbody>\n",
       "    <tr>\n",
       "      <th>0</th>\n",
       "      <td>4611686018428705658</td>\n",
       "      <td>2015-12-01T00:00:00Z</td>\n",
       "      <td>1</td>\n",
       "      <td>0</td>\n",
       "      <td>22</td>\n",
       "      <td>8023</td>\n",
       "      <td>216</td>\n",
       "      <td>75.723502</td>\n",
       "      <td>32</td>\n",
       "      <td>17.868597</td>\n",
       "      <td>...</td>\n",
       "      <td>90</td>\n",
       "      <td>16</td>\n",
       "      <td>31</td>\n",
       "      <td>93182</td>\n",
       "      <td>429.410138</td>\n",
       "      <td>0</td>\n",
       "      <td>245</td>\n",
       "      <td>0</td>\n",
       "      <td>40</td>\n",
       "      <td>2.444444</td>\n",
       "    </tr>\n",
       "    <tr>\n",
       "      <th>1</th>\n",
       "      <td>4611686018428705658</td>\n",
       "      <td>2015-12-02T00:00:00Z</td>\n",
       "      <td>2</td>\n",
       "      <td>0</td>\n",
       "      <td>0</td>\n",
       "      <td>275</td>\n",
       "      <td>17</td>\n",
       "      <td>39.555556</td>\n",
       "      <td>3</td>\n",
       "      <td>16.176471</td>\n",
       "      <td>...</td>\n",
       "      <td>6</td>\n",
       "      <td>0</td>\n",
       "      <td>1</td>\n",
       "      <td>3695</td>\n",
       "      <td>205.277778</td>\n",
       "      <td>0</td>\n",
       "      <td>16</td>\n",
       "      <td>0</td>\n",
       "      <td>40</td>\n",
       "      <td>0.000000</td>\n",
       "    </tr>\n",
       "    <tr>\n",
       "      <th>2</th>\n",
       "      <td>4611686018428705658</td>\n",
       "      <td>2015-12-03T00:00:00Z</td>\n",
       "      <td>3</td>\n",
       "      <td>0</td>\n",
       "      <td>1</td>\n",
       "      <td>254</td>\n",
       "      <td>1</td>\n",
       "      <td>193.500000</td>\n",
       "      <td>0</td>\n",
       "      <td>13.368421</td>\n",
       "      <td>...</td>\n",
       "      <td>1</td>\n",
       "      <td>0</td>\n",
       "      <td>1</td>\n",
       "      <td>2505</td>\n",
       "      <td>1252.500000</td>\n",
       "      <td>0</td>\n",
       "      <td>6</td>\n",
       "      <td>0</td>\n",
       "      <td>40</td>\n",
       "      <td>-1.000000</td>\n",
       "    </tr>\n",
       "    <tr>\n",
       "      <th>3</th>\n",
       "      <td>4611686018428705658</td>\n",
       "      <td>2015-12-04T00:00:00Z</td>\n",
       "      <td>4</td>\n",
       "      <td>0</td>\n",
       "      <td>18</td>\n",
       "      <td>5873</td>\n",
       "      <td>106</td>\n",
       "      <td>124.130841</td>\n",
       "      <td>0</td>\n",
       "      <td>30.273196</td>\n",
       "      <td>...</td>\n",
       "      <td>33</td>\n",
       "      <td>42</td>\n",
       "      <td>25</td>\n",
       "      <td>103</td>\n",
       "      <td>0.962617</td>\n",
       "      <td>0</td>\n",
       "      <td>150</td>\n",
       "      <td>0</td>\n",
       "      <td>40</td>\n",
       "      <td>2.571429</td>\n",
       "    </tr>\n",
       "    <tr>\n",
       "      <th>4</th>\n",
       "      <td>4611686018428705658</td>\n",
       "      <td>2015-12-08T00:00:00Z</td>\n",
       "      <td>5</td>\n",
       "      <td>0</td>\n",
       "      <td>7</td>\n",
       "      <td>2781</td>\n",
       "      <td>104</td>\n",
       "      <td>62.038095</td>\n",
       "      <td>1</td>\n",
       "      <td>17.490566</td>\n",
       "      <td>...</td>\n",
       "      <td>22</td>\n",
       "      <td>3</td>\n",
       "      <td>10</td>\n",
       "      <td>23625</td>\n",
       "      <td>225.000000</td>\n",
       "      <td>0</td>\n",
       "      <td>85</td>\n",
       "      <td>0</td>\n",
       "      <td>40</td>\n",
       "      <td>2.333333</td>\n",
       "    </tr>\n",
       "  </tbody>\n",
       "</table>\n",
       "<p>5 rows × 38 columns</p>\n",
       "</div>"
      ],
      "text/plain": [
       "   destinyMembershipId                  date  PvPEventCount  \\\n",
       "0  4611686018428705658  2015-12-01T00:00:00Z              1   \n",
       "1  4611686018428705658  2015-12-02T00:00:00Z              2   \n",
       "2  4611686018428705658  2015-12-03T00:00:00Z              3   \n",
       "3  4611686018428705658  2015-12-04T00:00:00Z              4   \n",
       "4  4611686018428705658  2015-12-08T00:00:00Z              5   \n",
       "\n",
       "   totalDeathDistance  activitiesWon  totalKillDistance  deaths  \\\n",
       "0                   0             22               8023     216   \n",
       "1                   0              0                275      17   \n",
       "2                   0              1                254       1   \n",
       "3                   0             18               5873     106   \n",
       "4                   0              7               2781     104   \n",
       "\n",
       "   averageLifespan  objectivesCompleted  averageKillDistance      ...       \\\n",
       "0        75.723502                   32            17.868597      ...        \n",
       "1        39.555556                    3            16.176471      ...        \n",
       "2       193.500000                    0            13.368421      ...        \n",
       "3       124.130841                    0            30.273196      ...        \n",
       "4        62.038095                    1            17.490566      ...        \n",
       "\n",
       "   assists  resurrectionsReceived  activitiesEntered  score  \\\n",
       "0       90                     16                 31  93182   \n",
       "1        6                      0                  1   3695   \n",
       "2        1                      0                  1   2505   \n",
       "3       33                     42                 25    103   \n",
       "4       22                      3                 10  23625   \n",
       "\n",
       "   averageScorePerLife  maximumWeaponLevel  allParticipantsCount  \\\n",
       "0           429.410138                   0                   245   \n",
       "1           205.277778                   0                    16   \n",
       "2          1252.500000                   0                     6   \n",
       "3             0.962617                   0                   150   \n",
       "4           225.000000                   0                    85   \n",
       "\n",
       "   maximumPowerLevel  highestCharacterLevel  winLossRatio  \n",
       "0                  0                     40      2.444444  \n",
       "1                  0                     40      0.000000  \n",
       "2                  0                     40     -1.000000  \n",
       "3                  0                     40      2.571429  \n",
       "4                  0                     40      2.333333  \n",
       "\n",
       "[5 rows x 38 columns]"
      ]
     },
     "execution_count": 43,
     "metadata": {},
     "output_type": "execute_result"
    }
   ],
   "source": [
    "df.head() #example of what the data look like (nb not all columns shown)"
   ]
  },
  {
   "cell_type": "markdown",
   "metadata": {},
   "source": [
    "## Data Munging"
   ]
  },
  {
   "cell_type": "code",
   "execution_count": 44,
   "metadata": {},
   "outputs": [
    {
     "name": "stdout",
     "output_type": "stream",
     "text": [
      "Rows in dataset   = 703602\n",
      "Unique player IDs = 12861\n"
     ]
    },
    {
     "ename": "NameError",
     "evalue": "(\"name 'arrow' is not defined\", 'occurred at index 0')",
     "output_type": "error",
     "traceback": [
      "\u001b[0;31m---------------------------------------------------------------------------\u001b[0m",
      "\u001b[0;31mNameError\u001b[0m                                 Traceback (most recent call last)",
      "\u001b[0;32m<ipython-input-44-b44033006f62>\u001b[0m in \u001b[0;36m<module>\u001b[0;34m()\u001b[0m\n\u001b[1;32m      7\u001b[0m \u001b[0;34m\u001b[0m\u001b[0m\n\u001b[1;32m      8\u001b[0m \u001b[0;31m#create a unique timestamp for each play\u001b[0m\u001b[0;34m\u001b[0m\u001b[0;34m\u001b[0m\u001b[0m\n\u001b[0;32m----> 9\u001b[0;31m \u001b[0mdf\u001b[0m\u001b[0;34m[\u001b[0m\u001b[0;34m'time'\u001b[0m\u001b[0;34m]\u001b[0m \u001b[0;34m=\u001b[0m\u001b[0mdf\u001b[0m\u001b[0;34m.\u001b[0m\u001b[0mapply\u001b[0m\u001b[0;34m(\u001b[0m\u001b[0mmaketime\u001b[0m\u001b[0;34m,\u001b[0m \u001b[0maxis\u001b[0m\u001b[0;34m=\u001b[0m\u001b[0;36m1\u001b[0m\u001b[0;34m)\u001b[0m\u001b[0;34m\u001b[0m\u001b[0m\n\u001b[0m\u001b[1;32m     10\u001b[0m \u001b[0;34m\u001b[0m\u001b[0m\n\u001b[1;32m     11\u001b[0m \u001b[0;31m#use this to create a sequential count of each game, for each player\u001b[0m\u001b[0;34m\u001b[0m\u001b[0;34m\u001b[0m\u001b[0m\n",
      "\u001b[0;32m/usr/lib/python3/dist-packages/pandas/core/frame.py\u001b[0m in \u001b[0;36mapply\u001b[0;34m(self, func, axis, broadcast, raw, reduce, args, **kwds)\u001b[0m\n\u001b[1;32m   3970\u001b[0m                     \u001b[0;32mif\u001b[0m \u001b[0mreduce\u001b[0m \u001b[0;32mis\u001b[0m \u001b[0;32mNone\u001b[0m\u001b[0;34m:\u001b[0m\u001b[0;34m\u001b[0m\u001b[0m\n\u001b[1;32m   3971\u001b[0m                         \u001b[0mreduce\u001b[0m \u001b[0;34m=\u001b[0m \u001b[0;32mTrue\u001b[0m\u001b[0;34m\u001b[0m\u001b[0m\n\u001b[0;32m-> 3972\u001b[0;31m                     \u001b[0;32mreturn\u001b[0m \u001b[0mself\u001b[0m\u001b[0;34m.\u001b[0m\u001b[0m_apply_standard\u001b[0m\u001b[0;34m(\u001b[0m\u001b[0mf\u001b[0m\u001b[0;34m,\u001b[0m \u001b[0maxis\u001b[0m\u001b[0;34m,\u001b[0m \u001b[0mreduce\u001b[0m\u001b[0;34m=\u001b[0m\u001b[0mreduce\u001b[0m\u001b[0;34m)\u001b[0m\u001b[0;34m\u001b[0m\u001b[0m\n\u001b[0m\u001b[1;32m   3973\u001b[0m             \u001b[0;32melse\u001b[0m\u001b[0;34m:\u001b[0m\u001b[0;34m\u001b[0m\u001b[0m\n\u001b[1;32m   3974\u001b[0m                 \u001b[0;32mreturn\u001b[0m \u001b[0mself\u001b[0m\u001b[0;34m.\u001b[0m\u001b[0m_apply_broadcast\u001b[0m\u001b[0;34m(\u001b[0m\u001b[0mf\u001b[0m\u001b[0;34m,\u001b[0m \u001b[0maxis\u001b[0m\u001b[0;34m)\u001b[0m\u001b[0;34m\u001b[0m\u001b[0m\n",
      "\u001b[0;32m/usr/lib/python3/dist-packages/pandas/core/frame.py\u001b[0m in \u001b[0;36m_apply_standard\u001b[0;34m(self, func, axis, ignore_failures, reduce)\u001b[0m\n\u001b[1;32m   4062\u001b[0m             \u001b[0;32mtry\u001b[0m\u001b[0;34m:\u001b[0m\u001b[0;34m\u001b[0m\u001b[0m\n\u001b[1;32m   4063\u001b[0m                 \u001b[0;32mfor\u001b[0m \u001b[0mi\u001b[0m\u001b[0;34m,\u001b[0m \u001b[0mv\u001b[0m \u001b[0;32min\u001b[0m \u001b[0menumerate\u001b[0m\u001b[0;34m(\u001b[0m\u001b[0mseries_gen\u001b[0m\u001b[0;34m)\u001b[0m\u001b[0;34m:\u001b[0m\u001b[0;34m\u001b[0m\u001b[0m\n\u001b[0;32m-> 4064\u001b[0;31m                     \u001b[0mresults\u001b[0m\u001b[0;34m[\u001b[0m\u001b[0mi\u001b[0m\u001b[0;34m]\u001b[0m \u001b[0;34m=\u001b[0m \u001b[0mfunc\u001b[0m\u001b[0;34m(\u001b[0m\u001b[0mv\u001b[0m\u001b[0;34m)\u001b[0m\u001b[0;34m\u001b[0m\u001b[0m\n\u001b[0m\u001b[1;32m   4065\u001b[0m                     \u001b[0mkeys\u001b[0m\u001b[0;34m.\u001b[0m\u001b[0mappend\u001b[0m\u001b[0;34m(\u001b[0m\u001b[0mv\u001b[0m\u001b[0;34m.\u001b[0m\u001b[0mname\u001b[0m\u001b[0;34m)\u001b[0m\u001b[0;34m\u001b[0m\u001b[0m\n\u001b[1;32m   4066\u001b[0m             \u001b[0;32mexcept\u001b[0m \u001b[0mException\u001b[0m \u001b[0;32mas\u001b[0m \u001b[0me\u001b[0m\u001b[0;34m:\u001b[0m\u001b[0;34m\u001b[0m\u001b[0m\n",
      "\u001b[0;32m~/Dropbox/university/expts/destiny_public/destiny/destiny_funcs.py\u001b[0m in \u001b[0;36mmaketime\u001b[0;34m(row)\u001b[0m\n\u001b[1;32m      3\u001b[0m     (do this by adding PvPEventCount minutes to each date)'''\n\u001b[1;32m      4\u001b[0m     \u001b[0;32mimport\u001b[0m \u001b[0marrow\u001b[0m\u001b[0;34m\u001b[0m\u001b[0m\n\u001b[0;32m----> 5\u001b[0;31m     \u001b[0;31m#return arrow.get(row['date'], 'YYYY-MM-DD').replace(minutes=+row   ['PvPEventCount'])\u001b[0m\u001b[0;34m\u001b[0m\u001b[0;34m\u001b[0m\u001b[0m\n\u001b[0m\u001b[1;32m      6\u001b[0m     \u001b[0;32mreturn\u001b[0m \u001b[0marrow\u001b[0m\u001b[0;34m.\u001b[0m\u001b[0mget\u001b[0m\u001b[0;34m(\u001b[0m\u001b[0mrow\u001b[0m\u001b[0;34m[\u001b[0m\u001b[0;34m'date'\u001b[0m\u001b[0;34m]\u001b[0m\u001b[0;34m)\u001b[0m\u001b[0;34m\u001b[0m\u001b[0m\n\u001b[1;32m      7\u001b[0m \u001b[0;34m\u001b[0m\u001b[0m\n",
      "\u001b[0;31mNameError\u001b[0m: (\"name 'arrow' is not defined\", 'occurred at index 0')"
     ]
    }
   ],
   "source": [
    "#our headings\n",
    "cols=df.columns.values\n",
    "\n",
    "\n",
    "print(\"Rows in dataset   = \" + str(len(df)))\n",
    "print(\"Unique player IDs = \" + str(len(df[cols[0]].unique())))\n",
    "\n",
    "#create a unique timestamp for each play\n",
    "df['time'] =df.apply(maketime, axis=1)\n",
    "\n",
    "#use this to create a sequential count of each game, for each player\n",
    "df.sort_values('time', ascending=True, inplace=True)\n",
    "df=df.groupby('destinyMembershipId').apply(ranker)\n",
    "#now find some by player stats\n",
    "df=df.groupby('destinyMembershipId').apply(tagger)"
   ]
  },
  {
   "cell_type": "code",
   "execution_count": null,
   "metadata": {
    "collapsed": true
   },
   "outputs": [],
   "source": []
  },
  {
   "cell_type": "code",
   "execution_count": null,
   "metadata": {
    "collapsed": true
   },
   "outputs": [],
   "source": []
  }
 ],
 "metadata": {
  "kernelspec": {
   "display_name": "Python 3",
   "language": "python",
   "name": "python3"
  },
  "language_info": {
   "codemirror_mode": {
    "name": "ipython",
    "version": 3
   },
   "file_extension": ".py",
   "mimetype": "text/x-python",
   "name": "python",
   "nbconvert_exporter": "python",
   "pygments_lexer": "ipython3",
   "version": "3.5.2"
  }
 },
 "nbformat": 4,
 "nbformat_minor": 2
}
