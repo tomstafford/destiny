{
 "cells": [
  {
   "cell_type": "markdown",
   "metadata": {},
   "source": [
    "# Exploration and Skill Acquisition in a Major Online Game\n",
    "\n",
    "* Tom Stafford; University of Sheffield, t.stafford@shef.ac.uk\n",
    "* Sam Devlin; Digital Creativity Labs, University of York\n",
    "* Anders Drachen; Digital Creativity Labs, University of York\n",
    "* Rafet Sifa; Fraunhofer IAIS, Germany"
   ]
  },
  {
   "cell_type": "markdown",
   "metadata": {},
   "source": [
    "### Tracking skill acquisition across 21,543 players of the first-person shooter game Destiny shows that variability in some – but not all – dimensions of practice enhances learning"
   ]
  },
  {
   "cell_type": "code",
   "execution_count": 1,
   "metadata": {},
   "outputs": [
    {
     "name": "stdout",
     "output_type": "stream",
     "text": [
      "3.5.2 (default, Nov 17 2016, 17:05:23) \n",
      "[GCC 5.4.0 20160609]\n"
     ]
    }
   ],
   "source": [
    "import sys\n",
    "print (sys.version)"
   ]
  },
  {
   "cell_type": "markdown",
   "metadata": {},
   "source": [
    "### Poster 140, Poster Session 1, Monarch Suite, Thursday, July 27, 1:20pm – 2:50pm\n",
    "\n",
    "Paper: https://mindmodeling.org/cogsci2017/papers/0615/index.html  \n",
    "Full scripts & sample data: https://osf.io/c59n9/  \n",
    "Poster: http://tomstafford.staff.shef.ac.uk/docs/CogSci17_TomStafford.jpg  \n",
    "This notebook: https://github.com/tomstafford/destiny/blob/master/variability.ipynb  "
   ]
  },
  {
   "cell_type": "markdown",
   "metadata": {},
   "source": [
    "## The Data"
   ]
  },
  {
   "cell_type": "code",
   "execution_count": 6,
   "metadata": {},
   "outputs": [
    {
     "name": "stdout",
     "output_type": "stream",
     "text": [
      "working directory = /home/tom/Dropbox/university/expts/destiny_public/destiny\n",
      "Machine = tom-xps\n"
     ]
    }
   ],
   "source": [
    "#libraries\n",
    "import os #directory and file functions\n",
    "import socket #machine id\n",
    "import pandas as pd #data munging \n",
    "\n",
    "import numpy as np #number functions\n",
    "import pylab as plt #graphing functions\n",
    "\n",
    "print(\"working directory = \" + os.getcwd())\n",
    "print(\"Machine = \" + socket.gethostname())"
   ]
  },
  {
   "cell_type": "code",
   "execution_count": 8,
   "metadata": {},
   "outputs": [],
   "source": [
    "#----------------- full data not available (sorry!), but we'll load summary data if we're not running locally\n",
    "\n",
    "local=False\n",
    "if not local:\n",
    "    filename='../../destiny/data/validation_dataset/validation-dataset-rldat.csv' #location of full dataset on Tom's machine\n",
    "\n",
    "df=pd.read_csv(filename)"
   ]
  },
  {
   "cell_type": "code",
   "execution_count": 9,
   "metadata": {},
   "outputs": [
    {
     "data": {
      "text/html": [
       "<div>\n",
       "<table border=\"1\" class=\"dataframe\">\n",
       "  <thead>\n",
       "    <tr style=\"text-align: right;\">\n",
       "      <th></th>\n",
       "      <th>destinyMembershipId</th>\n",
       "      <th>date</th>\n",
       "      <th>PvPEventCount</th>\n",
       "      <th>totalDeathDistance</th>\n",
       "      <th>activitiesWon</th>\n",
       "      <th>totalKillDistance</th>\n",
       "      <th>deaths</th>\n",
       "      <th>averageLifespan</th>\n",
       "      <th>objectivesCompleted</th>\n",
       "      <th>averageKillDistance</th>\n",
       "      <th>...</th>\n",
       "      <th>assists</th>\n",
       "      <th>resurrectionsReceived</th>\n",
       "      <th>activitiesEntered</th>\n",
       "      <th>score</th>\n",
       "      <th>averageScorePerLife</th>\n",
       "      <th>maximumWeaponLevel</th>\n",
       "      <th>allParticipantsCount</th>\n",
       "      <th>maximumPowerLevel</th>\n",
       "      <th>highestCharacterLevel</th>\n",
       "      <th>winLossRatio</th>\n",
       "    </tr>\n",
       "  </thead>\n",
       "  <tbody>\n",
       "    <tr>\n",
       "      <th>0</th>\n",
       "      <td>4611686018428705658</td>\n",
       "      <td>2015-12-01T00:00:00Z</td>\n",
       "      <td>1</td>\n",
       "      <td>0</td>\n",
       "      <td>22</td>\n",
       "      <td>8023</td>\n",
       "      <td>216</td>\n",
       "      <td>75.723502</td>\n",
       "      <td>32</td>\n",
       "      <td>17.868597</td>\n",
       "      <td>...</td>\n",
       "      <td>90</td>\n",
       "      <td>16</td>\n",
       "      <td>31</td>\n",
       "      <td>93182</td>\n",
       "      <td>429.410138</td>\n",
       "      <td>0</td>\n",
       "      <td>245</td>\n",
       "      <td>0</td>\n",
       "      <td>40</td>\n",
       "      <td>2.444444</td>\n",
       "    </tr>\n",
       "    <tr>\n",
       "      <th>1</th>\n",
       "      <td>4611686018428705658</td>\n",
       "      <td>2015-12-02T00:00:00Z</td>\n",
       "      <td>2</td>\n",
       "      <td>0</td>\n",
       "      <td>0</td>\n",
       "      <td>275</td>\n",
       "      <td>17</td>\n",
       "      <td>39.555556</td>\n",
       "      <td>3</td>\n",
       "      <td>16.176471</td>\n",
       "      <td>...</td>\n",
       "      <td>6</td>\n",
       "      <td>0</td>\n",
       "      <td>1</td>\n",
       "      <td>3695</td>\n",
       "      <td>205.277778</td>\n",
       "      <td>0</td>\n",
       "      <td>16</td>\n",
       "      <td>0</td>\n",
       "      <td>40</td>\n",
       "      <td>0.000000</td>\n",
       "    </tr>\n",
       "    <tr>\n",
       "      <th>2</th>\n",
       "      <td>4611686018428705658</td>\n",
       "      <td>2015-12-03T00:00:00Z</td>\n",
       "      <td>3</td>\n",
       "      <td>0</td>\n",
       "      <td>1</td>\n",
       "      <td>254</td>\n",
       "      <td>1</td>\n",
       "      <td>193.500000</td>\n",
       "      <td>0</td>\n",
       "      <td>13.368421</td>\n",
       "      <td>...</td>\n",
       "      <td>1</td>\n",
       "      <td>0</td>\n",
       "      <td>1</td>\n",
       "      <td>2505</td>\n",
       "      <td>1252.500000</td>\n",
       "      <td>0</td>\n",
       "      <td>6</td>\n",
       "      <td>0</td>\n",
       "      <td>40</td>\n",
       "      <td>-1.000000</td>\n",
       "    </tr>\n",
       "    <tr>\n",
       "      <th>3</th>\n",
       "      <td>4611686018428705658</td>\n",
       "      <td>2015-12-04T00:00:00Z</td>\n",
       "      <td>4</td>\n",
       "      <td>0</td>\n",
       "      <td>18</td>\n",
       "      <td>5873</td>\n",
       "      <td>106</td>\n",
       "      <td>124.130841</td>\n",
       "      <td>0</td>\n",
       "      <td>30.273196</td>\n",
       "      <td>...</td>\n",
       "      <td>33</td>\n",
       "      <td>42</td>\n",
       "      <td>25</td>\n",
       "      <td>103</td>\n",
       "      <td>0.962617</td>\n",
       "      <td>0</td>\n",
       "      <td>150</td>\n",
       "      <td>0</td>\n",
       "      <td>40</td>\n",
       "      <td>2.571429</td>\n",
       "    </tr>\n",
       "    <tr>\n",
       "      <th>4</th>\n",
       "      <td>4611686018428705658</td>\n",
       "      <td>2015-12-08T00:00:00Z</td>\n",
       "      <td>5</td>\n",
       "      <td>0</td>\n",
       "      <td>7</td>\n",
       "      <td>2781</td>\n",
       "      <td>104</td>\n",
       "      <td>62.038095</td>\n",
       "      <td>1</td>\n",
       "      <td>17.490566</td>\n",
       "      <td>...</td>\n",
       "      <td>22</td>\n",
       "      <td>3</td>\n",
       "      <td>10</td>\n",
       "      <td>23625</td>\n",
       "      <td>225.000000</td>\n",
       "      <td>0</td>\n",
       "      <td>85</td>\n",
       "      <td>0</td>\n",
       "      <td>40</td>\n",
       "      <td>2.333333</td>\n",
       "    </tr>\n",
       "  </tbody>\n",
       "</table>\n",
       "<p>5 rows × 38 columns</p>\n",
       "</div>"
      ],
      "text/plain": [
       "   destinyMembershipId                  date  PvPEventCount  \\\n",
       "0  4611686018428705658  2015-12-01T00:00:00Z              1   \n",
       "1  4611686018428705658  2015-12-02T00:00:00Z              2   \n",
       "2  4611686018428705658  2015-12-03T00:00:00Z              3   \n",
       "3  4611686018428705658  2015-12-04T00:00:00Z              4   \n",
       "4  4611686018428705658  2015-12-08T00:00:00Z              5   \n",
       "\n",
       "   totalDeathDistance  activitiesWon  totalKillDistance  deaths  \\\n",
       "0                   0             22               8023     216   \n",
       "1                   0              0                275      17   \n",
       "2                   0              1                254       1   \n",
       "3                   0             18               5873     106   \n",
       "4                   0              7               2781     104   \n",
       "\n",
       "   averageLifespan  objectivesCompleted  averageKillDistance      ...       \\\n",
       "0        75.723502                   32            17.868597      ...        \n",
       "1        39.555556                    3            16.176471      ...        \n",
       "2       193.500000                    0            13.368421      ...        \n",
       "3       124.130841                    0            30.273196      ...        \n",
       "4        62.038095                    1            17.490566      ...        \n",
       "\n",
       "   assists  resurrectionsReceived  activitiesEntered  score  \\\n",
       "0       90                     16                 31  93182   \n",
       "1        6                      0                  1   3695   \n",
       "2        1                      0                  1   2505   \n",
       "3       33                     42                 25    103   \n",
       "4       22                      3                 10  23625   \n",
       "\n",
       "   averageScorePerLife  maximumWeaponLevel  allParticipantsCount  \\\n",
       "0           429.410138                   0                   245   \n",
       "1           205.277778                   0                    16   \n",
       "2          1252.500000                   0                     6   \n",
       "3             0.962617                   0                   150   \n",
       "4           225.000000                   0                    85   \n",
       "\n",
       "   maximumPowerLevel  highestCharacterLevel  winLossRatio  \n",
       "0                  0                     40      2.444444  \n",
       "1                  0                     40      0.000000  \n",
       "2                  0                     40     -1.000000  \n",
       "3                  0                     40      2.571429  \n",
       "4                  0                     40      2.333333  \n",
       "\n",
       "[5 rows x 38 columns]"
      ]
     },
     "execution_count": 9,
     "metadata": {},
     "output_type": "execute_result"
    }
   ],
   "source": [
    "df.head()"
   ]
  },
  {
   "cell_type": "code",
   "execution_count": null,
   "metadata": {
    "collapsed": true
   },
   "outputs": [],
   "source": []
  }
 ],
 "metadata": {
  "kernelspec": {
   "display_name": "Python 3",
   "language": "python",
   "name": "python3"
  },
  "language_info": {
   "codemirror_mode": {
    "name": "ipython",
    "version": 3
   },
   "file_extension": ".py",
   "mimetype": "text/x-python",
   "name": "python",
   "nbconvert_exporter": "python",
   "pygments_lexer": "ipython3",
   "version": "3.5.2"
  }
 },
 "nbformat": 4,
 "nbformat_minor": 2
}
